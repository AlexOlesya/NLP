{
  "nbformat": 4,
  "nbformat_minor": 0,
  "metadata": {
    "colab": {
      "name": "Muginova Olesya_NLP3",
      "provenance": [],
      "collapsed_sections": [
        "5LepiqtTJyJs",
        "eS2sIXttJ3pO",
        "KNuQJdh1aMv8",
        "nXGeTUj-INbe",
        "KLYZfmvpIOyG",
        "Dr4zk4W_Kbl8",
        "Iwyv60mwXGvp",
        "DgrxCvy5SXEa",
        "O5yYpaBaQEJI"
      ],
      "toc_visible": true
    },
    "kernelspec": {
      "name": "python3",
      "display_name": "Python 3"
    },
    "language_info": {
      "name": "python"
    }
  },
  "cells": [
    {
      "cell_type": "markdown",
      "metadata": {
        "id": "5LepiqtTJyJs"
      },
      "source": [
        "# *Часть 1 - выгрузка текста*"
      ]
    },
    {
      "cell_type": "code",
      "metadata": {
        "id": "BPnvJ5ngKGYx"
      },
      "source": [
        "import requests\n",
        "from bs4 import BeautifulSoup\n",
        "import json"
      ],
      "execution_count": null,
      "outputs": []
    },
    {
      "cell_type": "code",
      "metadata": {
        "id": "WQBVzNieC1Bn"
      },
      "source": [
        "my_text=[]\n",
        "page=0\n",
        "i=0\n",
        "while i<=1000:\n",
        "  page0=requests.get('http://zpp.rospotrebnadzor.ru/Forum/Appeals/Details/{}'.format(page))\n",
        "  soup=BeautifulSoup(page0.content, 'html.parser')\n",
        "  t=soup.find('p', class_='appeal-details-message')\n",
        "  if t != None:\n",
        "    my_text.append(t.get_text())\n",
        "    i = i+1\n",
        "  page=page+1"
      ],
      "execution_count": null,
      "outputs": []
    },
    {
      "cell_type": "code",
      "metadata": {
        "id": "Ylwk4pOOLYM1"
      },
      "source": [
        "with open('my_text.txt', 'w') as f:\n",
        "   f.write(json.dumps(my_text))"
      ],
      "execution_count": null,
      "outputs": []
    },
    {
      "cell_type": "code",
      "metadata": {
        "id": "MFkKWvhiLjHG"
      },
      "source": [
        "with open('my_text.txt', 'r') as f:\n",
        "  my_text = json.loads(f.read())"
      ],
      "execution_count": null,
      "outputs": []
    },
    {
      "cell_type": "markdown",
      "metadata": {
        "id": "eS2sIXttJ3pO"
      },
      "source": [
        "# *Часть 2 - предобработка текста*"
      ]
    },
    {
      "cell_type": "markdown",
      "metadata": {
        "id": "KNuQJdh1aMv8"
      },
      "source": [
        "### *Регулярные выражения*"
      ]
    },
    {
      "cell_type": "code",
      "metadata": {
        "id": "Ewji3h23dh7V"
      },
      "source": [
        "import re"
      ],
      "execution_count": null,
      "outputs": []
    },
    {
      "cell_type": "code",
      "metadata": {
        "id": "RE5ea32CTR1-"
      },
      "source": [
        "complaints=my_text.copy()"
      ],
      "execution_count": null,
      "outputs": []
    },
    {
      "cell_type": "code",
      "metadata": {
        "id": "atLaKxZs97WI"
      },
      "source": [
        "for i in range (len (complaints)):\n",
        "  complaints[i] = re.sub(\"[a-zA-Z]+\", \"\", complaints[i]) #удаляем все английские слова\n",
        "  complaints[i]=re.sub(r'\\w*\\d\\w*', '', complaints[i]).strip() #удаляем числа\n",
        "  complaints[i]=re.sub(r'[^\\w\\s]', '', complaints[i]) #удаляем пунктуацию\n",
        "  complaints[i]=re.sub(r'\\n', '', complaints[i]) #удаляем разрыв строки  \n",
        "  complaints[i]=re.sub(r' +', ' ', complaints[i]) #удаляем лишние пробелы   "
      ],
      "execution_count": null,
      "outputs": []
    },
    {
      "cell_type": "markdown",
      "metadata": {
        "id": "nXGeTUj-INbe"
      },
      "source": [
        "### *Preprocessing*"
      ]
    },
    {
      "cell_type": "code",
      "metadata": {
        "id": "FnO_DEjGIPn0"
      },
      "source": [
        "import nltk\n",
        "from nltk.tokenize import word_tokenize\n",
        "nltk.download('punkt')"
      ],
      "execution_count": null,
      "outputs": []
    },
    {
      "cell_type": "code",
      "metadata": {
        "id": "Hm5HyfumXFY9"
      },
      "source": [
        "nltk.download('stopwords')\n",
        "from nltk.corpus import stopwords\n",
        "from nltk.tokenize import word_tokenize"
      ],
      "execution_count": null,
      "outputs": []
    },
    {
      "cell_type": "code",
      "metadata": {
        "id": "P1vzN5PkG8DZ"
      },
      "source": [
        "from string import punctuation"
      ],
      "execution_count": null,
      "outputs": []
    },
    {
      "cell_type": "code",
      "metadata": {
        "id": "cW38E735KhZk"
      },
      "source": [
        "!pip install pymorphy2\n",
        "import pymorphy2\n",
        "morph = pymorphy2.MorphAnalyzer(lang='ru')"
      ],
      "execution_count": null,
      "outputs": []
    },
    {
      "cell_type": "code",
      "metadata": {
        "id": "gjpcBcmkCuYk"
      },
      "source": [
        "!pip install autocorrect\n",
        "from autocorrect import Speller\n",
        "spell = Speller(lang='ru')"
      ],
      "execution_count": null,
      "outputs": []
    },
    {
      "cell_type": "code",
      "metadata": {
        "id": "H6c02xjfPejb"
      },
      "source": [
        "from autocorrect import Speller"
      ],
      "execution_count": null,
      "outputs": []
    },
    {
      "cell_type": "code",
      "metadata": {
        "id": "797-HQRxHitO"
      },
      "source": [
        "from gensim import corpora\n",
        "from gensim import models"
      ],
      "execution_count": null,
      "outputs": []
    },
    {
      "cell_type": "code",
      "metadata": {
        "id": "hGvHynKjIXr2"
      },
      "source": [
        "#tokinize\n",
        "text = [word_tokenize(document) for document in complaints]"
      ],
      "execution_count": null,
      "outputs": []
    },
    {
      "cell_type": "code",
      "metadata": {
        "id": "_6khX9oMJzpD"
      },
      "source": [
        "#удалим пробелы \n",
        "text = [\n",
        "     [token.strip().lower() for token in document]\n",
        "     for document in text]"
      ],
      "execution_count": null,
      "outputs": []
    },
    {
      "cell_type": "code",
      "metadata": {
        "id": "HOkXZDljKRwJ"
      },
      "source": [
        "#удалим стоп-слова\n",
        "stopwords = set(stopwords.words('russian'))\n",
        "stopwords_text = [\n",
        "     [word for word in document if word not in stopwords]\n",
        "     for document in text\n",
        " ]"
      ],
      "execution_count": null,
      "outputs": []
    },
    {
      "cell_type": "code",
      "metadata": {
        "id": "WjW0y75jBIYm"
      },
      "source": [
        "#еще раз дропнем пунктуацию\n",
        "punctuation += '--'\n",
        "punctuation += \"...\"\n",
        "punctuation +=\"========================================================================\"\n",
        "punctuation += \"''\"\n",
        "punctuation += \"``\"\n",
        "punctuation += \"wa\"\n",
        "punctuation_text = [\n",
        "     [word for word in document if word not in punctuation]\n",
        "     for document in stopwords_text\n",
        " ]"
      ],
      "execution_count": null,
      "outputs": []
    },
    {
      "cell_type": "code",
      "metadata": {
        "id": "fsbULOEmLFKJ"
      },
      "source": [
        "#лемматизация (используем pymorphy2 как более адаптивный к русскому языку)\n",
        "ru_lemm = [[morph.parse(w)[0].normal_form for w in document]\n",
        "           for document in punctuation_text]"
      ],
      "execution_count": null,
      "outputs": []
    },
    {
      "cell_type": "code",
      "metadata": {
        "id": "ceZkttGdY5I4"
      },
      "source": [
        "#еще раз удаляем стоп слова\n",
        "lem_text = [\n",
        "     [word for word in document if word not in stopwords]\n",
        "     for document in ru_lemm\n",
        " ]"
      ],
      "execution_count": null,
      "outputs": []
    },
    {
      "cell_type": "code",
      "metadata": {
        "id": "EpFgPjJqDj3v"
      },
      "source": [
        "#удалим шаблонные слова и обращения, которые не помогают узнать суть текста, так же удалим мусорные слова\n",
        "bad_words = [\"Здравствуйте\", \"Добрый\", \"день\", \"вечер\", \"утро\", \"пожалуйста\", \"помогите\", 'su', 'г', 'тк']\n",
        "clean_text = [\n",
        "     [word for word in document if word not in bad_words]\n",
        "     for document in lem_text\n",
        " ]"
      ],
      "execution_count": null,
      "outputs": []
    },
    {
      "cell_type": "code",
      "metadata": {
        "id": "my6Zu71JX00a"
      },
      "source": [
        "#автокоррекция\n",
        "spell = Speller(lang='ru')\n",
        "correct_text = [\n",
        "                [spell(word) for word in document]\n",
        "                for document in clean_text\n",
        "]"
      ],
      "execution_count": null,
      "outputs": []
    },
    {
      "cell_type": "code",
      "metadata": {
        "id": "-YqOAArnZNrk"
      },
      "source": [
        "#создаем словарь \n",
        "dictionary = corpora.Dictionary(correct_text)"
      ],
      "execution_count": null,
      "outputs": []
    },
    {
      "cell_type": "code",
      "metadata": {
        "id": "9Vu7-mqlZSU3"
      },
      "source": [
        "#проводим векторизацию\n",
        "corpus = [dictionary.doc2bow(text) for text in correct_text]"
      ],
      "execution_count": null,
      "outputs": []
    },
    {
      "cell_type": "code",
      "metadata": {
        "id": "Foj6lhEPZeNj"
      },
      "source": [
        "#tf-idf model\n",
        "tfidf_model = models.TfidfModel(corpus)  "
      ],
      "execution_count": null,
      "outputs": []
    },
    {
      "cell_type": "code",
      "metadata": {
        "id": "SeUbN5gbZfb_"
      },
      "source": [
        "#tfidf \n",
        "tfidf = tfidf_model[corpus]"
      ],
      "execution_count": null,
      "outputs": []
    },
    {
      "cell_type": "markdown",
      "metadata": {
        "id": "KLYZfmvpIOyG"
      },
      "source": [
        "# *Часть 3 - тематическое моделирование*"
      ]
    },
    {
      "cell_type": "markdown",
      "metadata": {
        "id": "aXw0o7bKIaGM"
      },
      "source": [
        "Для тематического моделирования будем использовать LSI, т.к. в прошлой работе данный метод показал более осмысленные результаты"
      ]
    },
    {
      "cell_type": "code",
      "metadata": {
        "id": "PFhog-4UIUb3"
      },
      "source": [
        "from gensim.models.coherencemodel import CoherenceModel\n",
        "import matplotlib.pyplot as plt\n",
        "import random"
      ],
      "execution_count": null,
      "outputs": []
    },
    {
      "cell_type": "code",
      "metadata": {
        "id": "zVN84E4FIe5M"
      },
      "source": [
        "#оптимальное количество топиков\n",
        "def compute_coherence_values(dictionary, doc_term_matrix, doc_clean, stop, start=2, step=3):\n",
        "    coherence_values = []\n",
        "    model_list = []\n",
        "    for num_topics in range(start, stop, step):\n",
        "        random.seed(10)\n",
        "        model = models.LsiModel(doc_term_matrix, num_topics=num_topics, id2word = dictionary) #train model\n",
        "        model_list.append(model)\n",
        "        coherencemodel = CoherenceModel(model=model, texts=doc_clean, dictionary=dictionary, coherence='c_v')\n",
        "        print(coherencemodel.get_coherence())\n",
        "        coherence_values.append(coherencemodel.get_coherence())\n",
        "    return model_list, coherence_values"
      ],
      "execution_count": null,
      "outputs": []
    },
    {
      "cell_type": "code",
      "metadata": {
        "id": "HJI1BkVsInox"
      },
      "source": [
        "def plot_graph(dictionary, doc_term_matrix, texts, start, stop, step, model_list, coherence_values):\n",
        "    x = range(start, stop, step)\n",
        "    plt.plot(x, coherence_values)\n",
        "    plt.xlabel(\"Number of Topics\")\n",
        "    plt.ylabel(\"Coherence score\")\n",
        "    plt.legend((\"coherence_values\"), loc='best')\n",
        "    plt.show()"
      ],
      "execution_count": null,
      "outputs": []
    },
    {
      "cell_type": "code",
      "metadata": {
        "colab": {
          "base_uri": "https://localhost:8080/"
        },
        "id": "BDpgafl4IreE",
        "outputId": "75abe144-d9f6-4882-8981-bbb0e84486be"
      },
      "source": [
        "start,stop,step=2,12,1\n",
        "model_list, coherence_values = compute_coherence_values(dictionary = dictionary, doc_term_matrix = tfidf, doc_clean = correct_text, start = start, stop = stop, step = step)"
      ],
      "execution_count": null,
      "outputs": [
        {
          "output_type": "stream",
          "name": "stdout",
          "text": [
            "0.43256020263893263\n",
            "0.4757010107036443\n",
            "0.5012772216493924\n",
            "0.43053127869551844\n",
            "0.4414884855733992\n",
            "0.44683489507654245\n",
            "0.4107285884216515\n",
            "0.39975677662334164\n",
            "0.39728394304627535\n",
            "0.4246096446613823\n"
          ]
        }
      ]
    },
    {
      "cell_type": "code",
      "metadata": {
        "colab": {
          "base_uri": "https://localhost:8080/",
          "height": 278
        },
        "id": "YyZUjmtkI4PM",
        "outputId": "a9944dbb-9659-4ed6-9311-d13c9ffd7c85"
      },
      "source": [
        "plot_graph(dictionary, tfidf, correct_text, start, stop, step, model_list, coherence_values)"
      ],
      "execution_count": null,
      "outputs": [
        {
          "output_type": "display_data",
          "data": {
            "image/png": "[encoded data removed]",
            "text/plain": [
              "<Figure size 432x288 with 1 Axes>"
            ]
          },
          "metadata": {
            "needs_background": "light"
          }
        }
      ]
    },
    {
      "cell_type": "code",
      "metadata": {
        "colab": {
          "base_uri": "https://localhost:8080/"
        },
        "id": "fpeoIoRjI-lR",
        "outputId": "50a8e0a9-1750-443b-b29d-2063dd8834d3"
      },
      "source": [
        "index = coherence_values.index(max(coherence_values))\n",
        "result = model_list[index].show_topics()\n",
        "all_topics=[] #добавим в массив полученные топики\n",
        "for i in range(len(result)):\n",
        "  all_topics.append(result[i][1])\n",
        "  print(result[i][1])"
      ],
      "execution_count": null,
      "outputs": [
        {
          "output_type": "stream",
          "name": "stdout",
          "text": [
            "-0.177*\"товар\" + -0.165*\"телефон\" + -0.163*\"магазин\" + -0.141*\"договор\" + -0.128*\"банк\" + -0.124*\"продавец\" + -0.116*\"деньга\" + -0.111*\"возврат\" + -0.102*\"вернуть\" + -0.098*\"услуга\"\n",
            "0.517*\"банк\" + 0.318*\"кредит\" + 0.209*\"договор\" + -0.200*\"магазин\" + -0.188*\"товар\" + 0.173*\"страхование\" + 0.159*\"кредитный\" + -0.132*\"телефон\" + -0.121*\"продавец\" + 0.112*\"карта\"\n",
            "0.229*\"дом\" + -0.210*\"телефон\" + -0.173*\"товар\" + 0.172*\"вода\" + 0.170*\"квартира\" + -0.141*\"кредит\" + -0.134*\"вернуть\" + 0.127*\"жилой\" + -0.126*\"возврат\" + -0.124*\"деньга\"\n",
            "0.399*\"телефон\" + 0.307*\"ремонт\" + -0.256*\"магазин\" + -0.252*\"товар\" + 0.166*\"центр\" + 0.162*\"сервисный\" + 0.124*\"смартфон\" + -0.121*\"продавец\" + -0.120*\"цена\" + -0.115*\"ценник\"\n"
          ]
        }
      ]
    },
    {
      "cell_type": "markdown",
      "metadata": {
        "id": "Dr4zk4W_Kbl8"
      },
      "source": [
        "# *Часть 4 - классификация*"
      ]
    },
    {
      "cell_type": "markdown",
      "metadata": {
        "id": "Iwyv60mwXGvp"
      },
      "source": [
        "## *Подготовка*"
      ]
    },
    {
      "cell_type": "code",
      "metadata": {
        "id": "tMbbrtobRNFN"
      },
      "source": [
        "import pandas as pd\n",
        "import numpy as np"
      ],
      "execution_count": null,
      "outputs": []
    },
    {
      "cell_type": "code",
      "metadata": {
        "id": "_aBFGJZi_lVr"
      },
      "source": [
        "!pip install pyLDAvis==2.1.2"
      ],
      "execution_count": null,
      "outputs": []
    },
    {
      "cell_type": "code",
      "metadata": {
        "id": "pIfGqj-2_fcj"
      },
      "source": [
        "import pyLDAvis.gensim\n",
        "import pyLDAvis\n",
        "import gensim"
      ],
      "execution_count": null,
      "outputs": []
    },
    {
      "cell_type": "code",
      "metadata": {
        "id": "sUewGPlwIM9s"
      },
      "source": [
        "from sklearn.model_selection import train_test_split"
      ],
      "execution_count": null,
      "outputs": []
    },
    {
      "cell_type": "code",
      "metadata": {
        "colab": {
          "base_uri": "https://localhost:8080/"
        },
        "id": "IxE6AwRk5Ojk",
        "outputId": "a9aa2227-49ea-40f4-e18c-0a1eeb994b99"
      },
      "source": [
        "#сократим количество слов в каждом топике до трех \n",
        "topics = []\n",
        "for i in range(len(result)):\n",
        "  topics.append(re.findall(r\"[А-Яа-я]+\", result[i][1]))\n",
        "topics = [sublist[:3] for sublist in topics]\n",
        "print(topics)"
      ],
      "execution_count": null,
      "outputs": [
        {
          "output_type": "stream",
          "name": "stdout",
          "text": [
            "[['товар', 'телефон', 'магазин'], ['банк', 'кредит', 'договор'], ['дом', 'телефон', 'товар'], ['телефон', 'ремонт', 'магазин']]\n"
          ]
        }
      ]
    },
    {
      "cell_type": "code",
      "metadata": {
        "id": "M6Anvpx66euJ"
      },
      "source": [
        "#сделаем лейблы\n",
        "label_topics=['_'.join(i) for i in topics]"
      ],
      "execution_count": null,
      "outputs": []
    },
    {
      "cell_type": "code",
      "metadata": {
        "colab": {
          "base_uri": "https://localhost:8080/",
          "height": 170
        },
        "id": "F5I_mToP7WwA",
        "outputId": "b483625f-ee09-4d5c-9437-876959bb15c0"
      },
      "source": [
        "#теперь создадим словарь и датафрэйм с топиком и его меткой\n",
        "dict_topics = {'Topic': all_topics,'Label': label_topics}\n",
        "t_l = pd.DataFrame(dict_topics, columns=['Topic','Label'])\n",
        "t_l"
      ],
      "execution_count": null,
      "outputs": [
        {
          "output_type": "execute_result",
          "data": {
            "text/html": [
              "<div>\n",
              "<style scoped>\n",
              "    .dataframe tbody tr th:only-of-type {\n",
              "        vertical-align: middle;\n",
              "    }\n",
              "\n",
              "    .dataframe tbody tr th {\n",
              "        vertical-align: top;\n",
              "    }\n",
              "\n",
              "    .dataframe thead th {\n",
              "        text-align: right;\n",
              "    }\n",
              "</style>\n",
              "<table border=\"1\" class=\"dataframe\">\n",
              "  <thead>\n",
              "    <tr style=\"text-align: right;\">\n",
              "      <th></th>\n",
              "      <th>Topic</th>\n",
              "      <th>Label</th>\n",
              "    </tr>\n",
              "  </thead>\n",
              "  <tbody>\n",
              "    <tr>\n",
              "      <th>0</th>\n",
              "      <td>-0.177*\"товар\" + -0.165*\"телефон\" + -0.163*\"ма...</td>\n",
              "      <td>товар_телефон_магазин</td>\n",
              "    </tr>\n",
              "    <tr>\n",
              "      <th>1</th>\n",
              "      <td>0.517*\"банк\" + 0.318*\"кредит\" + 0.209*\"договор...</td>\n",
              "      <td>банк_кредит_договор</td>\n",
              "    </tr>\n",
              "    <tr>\n",
              "      <th>2</th>\n",
              "      <td>0.229*\"дом\" + -0.210*\"телефон\" + -0.173*\"товар...</td>\n",
              "      <td>дом_телефон_товар</td>\n",
              "    </tr>\n",
              "    <tr>\n",
              "      <th>3</th>\n",
              "      <td>0.399*\"телефон\" + 0.307*\"ремонт\" + -0.256*\"маг...</td>\n",
              "      <td>телефон_ремонт_магазин</td>\n",
              "    </tr>\n",
              "  </tbody>\n",
              "</table>\n",
              "</div>"
            ],
            "text/plain": [
              "                                               Topic                   Label\n",
              "0  -0.177*\"товар\" + -0.165*\"телефон\" + -0.163*\"ма...   товар_телефон_магазин\n",
              "1  0.517*\"банк\" + 0.318*\"кредит\" + 0.209*\"договор...     банк_кредит_договор\n",
              "2  0.229*\"дом\" + -0.210*\"телефон\" + -0.173*\"товар...       дом_телефон_товар\n",
              "3  0.399*\"телефон\" + 0.307*\"ремонт\" + -0.256*\"маг...  телефон_ремонт_магазин"
            ]
          },
          "metadata": {},
          "execution_count": 40
        }
      ]
    },
    {
      "cell_type": "code",
      "metadata": {
        "id": "VRL8NbYa9aSn"
      },
      "source": [
        "#добавим индексацию, чтобы потом применить для соединения\n",
        "t_l['Index'] = t_l.index"
      ],
      "execution_count": null,
      "outputs": []
    },
    {
      "cell_type": "code",
      "metadata": {
        "id": "CK5OXMmb-G6d",
        "colab": {
          "base_uri": "https://localhost:8080/"
        },
        "outputId": "6b6791fd-c91f-4b15-a506-11ed9444d8e3"
      },
      "source": [
        "#создадим матрицу топик-документ\n",
        "matrix= gensim.matutils.corpus2dense(model_list[index][tfidf], len(model_list[index].projection.s)).T / model_list[index].projection.s\n",
        "#добавляем столбец с номером максимально вероятного топика\n",
        "matrix= pd.DataFrame(abs(matrix))\n",
        "matrix_new= matrix.join(pd.DataFrame(matrix.idxmax(axis=1), columns = ['Index']))"
      ],
      "execution_count": null,
      "outputs": [
        {
          "output_type": "stream",
          "name": "stderr",
          "text": [
            "/usr/local/lib/python3.7/dist-packages/gensim/matutils.py:502: FutureWarning: arrays to stack must be passed as a \"sequence\" type such as list or tuple. Support for non-sequence iterables such as generators is deprecated as of NumPy 1.16 and will raise an error in the future.\n",
            "  result = np.column_stack(sparse2full(doc, num_terms) for doc in corpus)\n"
          ]
        }
      ]
    },
    {
      "cell_type": "code",
      "metadata": {
        "id": "Qx00gE9V_-aC"
      },
      "source": [
        "#теперь нам нужна таблица с текстом документа и номером максимально вероятного топика\n",
        "summary_table = pd.DataFrame(my_text, columns = ['Text'])\n",
        "summary_table = summary_table.join(matrix_new)\n",
        "summary_table[\"Numbering\"] = np.arange(len(summary_table))"
      ],
      "execution_count": null,
      "outputs": []
    },
    {
      "cell_type": "code",
      "metadata": {
        "id": "X3H7yiAUDVLJ"
      },
      "source": [
        "#соединяем таблицу с текстом и таблицу с метками через индекс(нумерацию, которую задавали в начале)\n",
        "summary_table = summary_table.merge(t_l, on='Index').set_index(\"Numbering\").loc[np.arange(len(summary_table)), :]"
      ],
      "execution_count": null,
      "outputs": []
    },
    {
      "cell_type": "code",
      "metadata": {
        "colab": {
          "base_uri": "https://localhost:8080/",
          "height": 440
        },
        "id": "kRaBXU1KH0ad",
        "outputId": "7cfee359-a550-43a7-8f52-7adc958b0754"
      },
      "source": [
        "#По итогу оставлям таблицу с текстом жалобы, нашей меткой и номером топика\n",
        "final_table = summary_table[['Text', 'Label', 'Index']]\n",
        "final_table"
      ],
      "execution_count": null,
      "outputs": [
        {
          "output_type": "execute_result",
          "data": {
            "text/html": [
              "<div>\n",
              "<style scoped>\n",
              "    .dataframe tbody tr th:only-of-type {\n",
              "        vertical-align: middle;\n",
              "    }\n",
              "\n",
              "    .dataframe tbody tr th {\n",
              "        vertical-align: top;\n",
              "    }\n",
              "\n",
              "    .dataframe thead th {\n",
              "        text-align: right;\n",
              "    }\n",
              "</style>\n",
              "<table border=\"1\" class=\"dataframe\">\n",
              "  <thead>\n",
              "    <tr style=\"text-align: right;\">\n",
              "      <th></th>\n",
              "      <th>Text</th>\n",
              "      <th>Label</th>\n",
              "      <th>Index</th>\n",
              "    </tr>\n",
              "    <tr>\n",
              "      <th>Numbering</th>\n",
              "      <th></th>\n",
              "      <th></th>\n",
              "      <th></th>\n",
              "    </tr>\n",
              "  </thead>\n",
              "  <tbody>\n",
              "    <tr>\n",
              "      <th>0</th>\n",
              "      <td>02.02.2016 я сдала пару обуви, ранее приобрете...</td>\n",
              "      <td>телефон_ремонт_магазин</td>\n",
              "      <td>3</td>\n",
              "    </tr>\n",
              "    <tr>\n",
              "      <th>1</th>\n",
              "      <td>02.02.16 я вернула пару обуви, ранее приобрете...</td>\n",
              "      <td>товар_телефон_магазин</td>\n",
              "      <td>0</td>\n",
              "    </tr>\n",
              "    <tr>\n",
              "      <th>2</th>\n",
              "      <td>Добрый день. 20.12.2015 я приобрел ботинки в о...</td>\n",
              "      <td>товар_телефон_магазин</td>\n",
              "      <td>0</td>\n",
              "    </tr>\n",
              "    <tr>\n",
              "      <th>3</th>\n",
              "      <td>Интернет компания не выходит на связь, консуль...</td>\n",
              "      <td>товар_телефон_магазин</td>\n",
              "      <td>0</td>\n",
              "    </tr>\n",
              "    <tr>\n",
              "      <th>4</th>\n",
              "      <td>Интернет компания не выходит на связь, консуль...</td>\n",
              "      <td>товар_телефон_магазин</td>\n",
              "      <td>0</td>\n",
              "    </tr>\n",
              "    <tr>\n",
              "      <th>...</th>\n",
              "      <td>...</td>\n",
              "      <td>...</td>\n",
              "      <td>...</td>\n",
              "    </tr>\n",
              "    <tr>\n",
              "      <th>996</th>\n",
              "      <td>Добрый день.\\r\\nПо адресу Мос. обл., Ленинский...</td>\n",
              "      <td>дом_телефон_товар</td>\n",
              "      <td>2</td>\n",
              "    </tr>\n",
              "    <tr>\n",
              "      <th>997</th>\n",
              "      <td>Помогите, пожалуйста. Очень холодно в квартире...</td>\n",
              "      <td>дом_телефон_товар</td>\n",
              "      <td>2</td>\n",
              "    </tr>\n",
              "    <tr>\n",
              "      <th>998</th>\n",
              "      <td>Уже полгода не могу добиться счетов на оплату,...</td>\n",
              "      <td>товар_телефон_магазин</td>\n",
              "      <td>0</td>\n",
              "    </tr>\n",
              "    <tr>\n",
              "      <th>999</th>\n",
              "      <td>Добрый день.\\r\\n28 июня 2016 в интернет магази...</td>\n",
              "      <td>товар_телефон_магазин</td>\n",
              "      <td>0</td>\n",
              "    </tr>\n",
              "    <tr>\n",
              "      <th>1000</th>\n",
              "      <td>06.12.2016 столкнулась с денежной аферой. в Со...</td>\n",
              "      <td>товар_телефон_магазин</td>\n",
              "      <td>0</td>\n",
              "    </tr>\n",
              "  </tbody>\n",
              "</table>\n",
              "<p>1001 rows × 3 columns</p>\n",
              "</div>"
            ],
            "text/plain": [
              "                                                        Text  ... Index\n",
              "Numbering                                                     ...      \n",
              "0          02.02.2016 я сдала пару обуви, ранее приобрете...  ...     3\n",
              "1          02.02.16 я вернула пару обуви, ранее приобрете...  ...     0\n",
              "2          Добрый день. 20.12.2015 я приобрел ботинки в о...  ...     0\n",
              "3          Интернет компания не выходит на связь, консуль...  ...     0\n",
              "4          Интернет компания не выходит на связь, консуль...  ...     0\n",
              "...                                                      ...  ...   ...\n",
              "996        Добрый день.\\r\\nПо адресу Мос. обл., Ленинский...  ...     2\n",
              "997        Помогите, пожалуйста. Очень холодно в квартире...  ...     2\n",
              "998        Уже полгода не могу добиться счетов на оплату,...  ...     0\n",
              "999        Добрый день.\\r\\n28 июня 2016 в интернет магази...  ...     0\n",
              "1000       06.12.2016 столкнулась с денежной аферой. в Со...  ...     0\n",
              "\n",
              "[1001 rows x 3 columns]"
            ]
          },
          "metadata": {},
          "execution_count": 45
        }
      ]
    },
    {
      "cell_type": "markdown",
      "metadata": {
        "id": "QHFPGcYKPq7v"
      },
      "source": [
        "Для задачи классификации будем использовать градиентный бустинг, т.к. в прошлой работе данная модель показала наилучшее качество"
      ]
    },
    {
      "cell_type": "markdown",
      "metadata": {
        "id": "DgrxCvy5SXEa"
      },
      "source": [
        "## *Tfidf*"
      ]
    },
    {
      "cell_type": "code",
      "metadata": {
        "id": "w3_BPpqeJtd2"
      },
      "source": [
        "#подготовим текст для классификации\n",
        "text_for_model = []\n",
        "for i in range(0, len(correct_text)):\n",
        "  text_for_model.append(' '.join(correct_text[i]))"
      ],
      "execution_count": null,
      "outputs": []
    },
    {
      "cell_type": "code",
      "metadata": {
        "id": "j01JUqFFIy7O"
      },
      "source": [
        "#выделяем целевую переменную (y) и предикторы (x), разбиваем данные на тестовую и обучающую выборки\n",
        "y = final_table['Label']\n",
        "X = text_for_model\n",
        "X_train, X_test, y_train, y_test = train_test_split(X, y, test_size = 1/3, random_state = 0)"
      ],
      "execution_count": null,
      "outputs": []
    },
    {
      "cell_type": "code",
      "metadata": {
        "colab": {
          "base_uri": "https://localhost:8080/"
        },
        "id": "lhD34WMINfHp",
        "outputId": "873deeb1-16e5-4ece-ed30-e39fb1cc4e48"
      },
      "source": [
        "from sklearn.ensemble import GradientBoostingClassifier\n",
        "from sklearn.pipeline import Pipeline\n",
        "from sklearn import metrics\n",
        "from sklearn.feature_extraction.text import CountVectorizer\n",
        "from sklearn.feature_extraction.text import TfidfTransformer\n",
        "# boosting\n",
        "modelGB = Pipeline([('vect', CountVectorizer()),\n",
        "                     ('tfidf', TfidfTransformer()),\n",
        "                     ('clf', GradientBoostingClassifier(n_estimators=100)),\n",
        "                     ])\n",
        "modelGB.fit(X_train, y_train)\n",
        "modelGB.score(X_train, y_train), modelGB.score(X_test, y_test)"
      ],
      "execution_count": null,
      "outputs": [
        {
          "output_type": "execute_result",
          "data": {
            "text/plain": [
              "(1.0, 0.6766467065868264)"
            ]
          },
          "metadata": {},
          "execution_count": 48
        }
      ]
    },
    {
      "cell_type": "markdown",
      "metadata": {
        "id": "O5yYpaBaQEJI"
      },
      "source": [
        "## *Doc2vec*"
      ]
    },
    {
      "cell_type": "code",
      "metadata": {
        "id": "fCYjxs01QSkn"
      },
      "source": [
        "import nltk\n",
        "nltk.download('punkt')"
      ],
      "execution_count": null,
      "outputs": []
    },
    {
      "cell_type": "code",
      "metadata": {
        "id": "Ogj9YHzda_WO"
      },
      "source": [
        "#немного изменим таблицу, чтобы отдавать модели чистый текст \n",
        "summary_table2 = pd.DataFrame(text_for_model, columns = ['Text'])\n",
        "summary_table2 = summary_table2.join(matrix_new)\n",
        "summary_table2[\"Numbering\"] = np.arange(len(summary_table2))"
      ],
      "execution_count": null,
      "outputs": []
    },
    {
      "cell_type": "code",
      "metadata": {
        "id": "Kvg2l0tGcFi9"
      },
      "source": [
        "summary_table2 = summary_table2.merge(t_l, on='Index').set_index(\"Numbering\").loc[np.arange(len(summary_table2)), :]"
      ],
      "execution_count": null,
      "outputs": []
    },
    {
      "cell_type": "code",
      "metadata": {
        "colab": {
          "base_uri": "https://localhost:8080/",
          "height": 440
        },
        "id": "7YRNqROhcOXG",
        "outputId": "586297a7-df7c-4912-fb0c-697311cd53c0"
      },
      "source": [
        "final_table2 = summary_table2[['Text', 'Label', 'Index']]\n",
        "final_table2"
      ],
      "execution_count": null,
      "outputs": [
        {
          "output_type": "execute_result",
          "data": {
            "text/html": [
              "<div>\n",
              "<style scoped>\n",
              "    .dataframe tbody tr th:only-of-type {\n",
              "        vertical-align: middle;\n",
              "    }\n",
              "\n",
              "    .dataframe tbody tr th {\n",
              "        vertical-align: top;\n",
              "    }\n",
              "\n",
              "    .dataframe thead th {\n",
              "        text-align: right;\n",
              "    }\n",
              "</style>\n",
              "<table border=\"1\" class=\"dataframe\">\n",
              "  <thead>\n",
              "    <tr style=\"text-align: right;\">\n",
              "      <th></th>\n",
              "      <th>Text</th>\n",
              "      <th>Label</th>\n",
              "      <th>Index</th>\n",
              "    </tr>\n",
              "    <tr>\n",
              "      <th>Numbering</th>\n",
              "      <th></th>\n",
              "      <th></th>\n",
              "      <th></th>\n",
              "    </tr>\n",
              "  </thead>\n",
              "  <tbody>\n",
              "    <tr>\n",
              "      <th>0</th>\n",
              "      <td>сдать пара обувь ранее приобрести интернет маг...</td>\n",
              "      <td>телефон_ремонт_магазин</td>\n",
              "      <td>3</td>\n",
              "    </tr>\n",
              "    <tr>\n",
              "      <th>1</th>\n",
              "      <td>вернуть пара обувь ранее приобрести интернетма...</td>\n",
              "      <td>товар_телефон_магазин</td>\n",
              "      <td>0</td>\n",
              "    </tr>\n",
              "    <tr>\n",
              "      <th>2</th>\n",
              "      <td>добрый приобрести ботинок магазин сеть рандеву...</td>\n",
              "      <td>товар_телефон_магазин</td>\n",
              "      <td>0</td>\n",
              "    </tr>\n",
              "    <tr>\n",
              "      <th>3</th>\n",
              "      <td>интернет компания выходить связь консультацион...</td>\n",
              "      <td>товар_телефон_магазин</td>\n",
              "      <td>0</td>\n",
              "    </tr>\n",
              "    <tr>\n",
              "      <th>4</th>\n",
              "      <td>интернет компания выходить связь консультацион...</td>\n",
              "      <td>товар_телефон_магазин</td>\n",
              "      <td>0</td>\n",
              "    </tr>\n",
              "    <tr>\n",
              "      <th>...</th>\n",
              "      <td>...</td>\n",
              "      <td>...</td>\n",
              "      <td>...</td>\n",
              "    </tr>\n",
              "    <tr>\n",
              "      <th>996</th>\n",
              "      <td>добрый адрес мос обл ленинский рн видный мкр ю...</td>\n",
              "      <td>дом_телефон_товар</td>\n",
              "      <td>2</td>\n",
              "    </tr>\n",
              "    <tr>\n",
              "      <th>997</th>\n",
              "      <td>помочь очень холодно квартира батарея тёплый в...</td>\n",
              "      <td>дом_телефон_товар</td>\n",
              "      <td>2</td>\n",
              "    </tr>\n",
              "    <tr>\n",
              "      <th>998</th>\n",
              "      <td>полгода мочь добиться счёт оплата приходиться ...</td>\n",
              "      <td>товар_телефон_магазин</td>\n",
              "      <td>0</td>\n",
              "    </tr>\n",
              "    <tr>\n",
              "      <th>999</th>\n",
              "      <td>добрый июнь интернет магазин организация озорн...</td>\n",
              "      <td>товар_телефон_магазин</td>\n",
              "      <td>0</td>\n",
              "    </tr>\n",
              "    <tr>\n",
              "      <th>1000</th>\n",
              "      <td>столкнуться денежный афера социальный сеть кон...</td>\n",
              "      <td>товар_телефон_магазин</td>\n",
              "      <td>0</td>\n",
              "    </tr>\n",
              "  </tbody>\n",
              "</table>\n",
              "<p>1001 rows × 3 columns</p>\n",
              "</div>"
            ],
            "text/plain": [
              "                                                        Text  ... Index\n",
              "Numbering                                                     ...      \n",
              "0          сдать пара обувь ранее приобрести интернет маг...  ...     3\n",
              "1          вернуть пара обувь ранее приобрести интернетма...  ...     0\n",
              "2          добрый приобрести ботинок магазин сеть рандеву...  ...     0\n",
              "3          интернет компания выходить связь консультацион...  ...     0\n",
              "4          интернет компания выходить связь консультацион...  ...     0\n",
              "...                                                      ...  ...   ...\n",
              "996        добрый адрес мос обл ленинский рн видный мкр ю...  ...     2\n",
              "997        помочь очень холодно квартира батарея тёплый в...  ...     2\n",
              "998        полгода мочь добиться счёт оплата приходиться ...  ...     0\n",
              "999        добрый июнь интернет магазин организация озорн...  ...     0\n",
              "1000       столкнуться денежный афера социальный сеть кон...  ...     0\n",
              "\n",
              "[1001 rows x 3 columns]"
            ]
          },
          "metadata": {},
          "execution_count": 54
        }
      ]
    },
    {
      "cell_type": "code",
      "metadata": {
        "id": "YPD5JDoiQ1Nt"
      },
      "source": [
        "from tqdm import tqdm\n",
        "tqdm.pandas(desc=\"progress-bar\")\n",
        "from gensim.models import Doc2Vec\n",
        "from sklearn import utils\n",
        "import gensim\n",
        "from gensim.models.doc2vec import TaggedDocument\n",
        "import re\n",
        "\n",
        "def label_sentences(corpus, label_type):\n",
        "    \"\"\"\n",
        "    Gensim's Doc2Vec implementation requires each document/paragraph to have a label associated with it.\n",
        "    We do this by using the TaggedDocument method. The format will be \"TRAIN_i\" or \"TEST_i\" where \"i\" is\n",
        "    a dummy index of the post.\n",
        "    \"\"\"\n",
        "    labeled = []\n",
        "    for i, v in enumerate(corpus):\n",
        "        label = label_type + '_' + str(i)\n",
        "        labeled.append(doc2vec.TaggedDocument(v.split(), [label]))\n",
        "    return labeled\n",
        "X_train, X_test, y_train, y_test = train_test_split(final_table2.Text, final_table2.Label, random_state=0, test_size=0.3)\n",
        "X_train = label_sentences(X_train, 'Train')\n",
        "X_test = label_sentences(X_test, 'Test')\n",
        "all_data = X_train + X_test"
      ],
      "execution_count": null,
      "outputs": []
    },
    {
      "cell_type": "code",
      "metadata": {
        "id": "CYcuusllTP01"
      },
      "source": [
        "model_dbow = Doc2Vec(dm=0, vector_size=300, negative=5, min_count=1, alpha=0.065, min_alpha=0.065)\n",
        "model_dbow.build_vocab([x for x in tqdm(all_data)])\n",
        "\n",
        "for epoch in range(30):\n",
        "    model_dbow.train(utils.shuffle([x for x in tqdm(all_data)]), total_examples=len(all_data), epochs=1)\n",
        "    model_dbow.alpha -= 0.002\n",
        "    model_dbow.min_alpha = model_dbow.alpha"
      ],
      "execution_count": null,
      "outputs": []
    },
    {
      "cell_type": "code",
      "metadata": {
        "id": "DSby3yC7TbrK"
      },
      "source": [
        "def get_vectors(model, corpus_size, vectors_size, vectors_type):\n",
        "    \"\"\"\n",
        "    Get vectors from trained doc2vec model\n",
        "    :param doc2vec_model: Trained Doc2Vec model\n",
        "    :param corpus_size: Size of the data\n",
        "    :param vectors_size: Size of the embedding vectors\n",
        "    :param vectors_type: Training or Testing vectors\n",
        "    :return: list of vectors\n",
        "    \"\"\"\n",
        "    vectors = np.zeros((corpus_size, vectors_size))\n",
        "    for i in range(0, corpus_size):\n",
        "        prefix = vectors_type + '_' + str(i)\n",
        "        vectors[i] = model.docvecs[prefix]\n",
        "    return vectors\n",
        "    \n",
        "train_vectors_dbow = get_vectors(model_dbow, len(X_train), 300, 'Train')\n",
        "test_vectors_dbow = get_vectors(model_dbow, len(X_test), 300, 'Test')"
      ],
      "execution_count": null,
      "outputs": []
    },
    {
      "cell_type": "code",
      "metadata": {
        "colab": {
          "base_uri": "https://localhost:8080/"
        },
        "id": "NWFoS_4gTek4",
        "outputId": "189a1100-ad01-4360-ef65-8a340993b5e8"
      },
      "source": [
        "from sklearn.ensemble import GradientBoostingClassifier\n",
        "modelGB2 = GradientBoostingClassifier(n_estimators=100)\n",
        "modelGB2.fit(train_vectors_dbow, y_train)\n",
        "modelGB2.score(train_vectors_dbow, y_train), modelGB2.score(test_vectors_dbow, y_test)"
      ],
      "execution_count": null,
      "outputs": [
        {
          "output_type": "execute_result",
          "data": {
            "text/plain": [
              "(1.0, 0.6179401993355482)"
            ]
          },
          "metadata": {},
          "execution_count": 60
        }
      ]
    },
    {
      "cell_type": "markdown",
      "metadata": {
        "id": "3jyBO4-0lSCx"
      },
      "source": [
        "# *Вывод*\n",
        "\n",
        "В данной работе сравнивались два способа векторизациии текста tf-idf и doc2vec. \n",
        "\n",
        "\n",
        "Оценив качество двух моделей классификации через метрику точности accuracy, мы приходим к выводу, что первая модель, где векторизация текста была выполнена с помощью tf-idf, сработала лучше (имеет более высокую точность), по сравнению с моделью, где текст векторизировался с помощью doc2vec. То есть, мы можем сказать, что для данной задачи, способ преобразования текстовых данных в числовую форму, основанный на частотно-обратной частоте документа (tf-idf), подходит больше, чем doc2vec, где векторизация основывается не только на уровне текста, а на уровне документов. \n",
        "\n",
        "Это может быть связано с тем, что корпус, который мы используем в данной задаче, содержит в себе короткие документы, возможно, по этой причине tfidf сработал лучше doc2vec. \n",
        "\n",
        "\n",
        "По итогу проета получены следующие **результаты**:\n",
        "\n",
        "* Тематическое моделирование с помощью **LSI**  показывает наиболее осмысленные результаты, чем  LDA\n",
        "\n",
        "* Для векторизациии лучше использовать  **tf-idf**\n",
        "\n",
        "* Модель классификации, построенная с помощью **градиентного бустинга** показывает большую точность, по сравнению с моделями, построенными на основе бэггинга и random forest.\n"
      ]
    }
  ]
}