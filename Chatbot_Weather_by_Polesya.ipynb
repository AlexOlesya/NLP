{
  "nbformat": 4,
  "nbformat_minor": 0,
  "metadata": {
    "colab": {
      "name": "Chatbot -- Weather by Polesya.ipynb",
      "provenance": [],
      "collapsed_sections": []
    },
    "kernelspec": {
      "name": "python3",
      "display_name": "Python 3"
    },
    "language_info": {
      "name": "python"
    }
  },
  "cells": [
    {
      "cell_type": "code",
      "execution_count": null,
      "metadata": {
        "id": "kD-71r0tz4yh"
      },
      "outputs": [],
      "source": [
        "!pip3 install pytelegrambotapi"
      ]
    },
    {
      "cell_type": "code",
      "source": [
        "!pip3 install natasha"
      ],
      "metadata": {
        "id": "8jx5qigiWICe"
      },
      "execution_count": null,
      "outputs": []
    },
    {
      "cell_type": "code",
      "source": [
        "import random\n",
        "import pandas as pd\n",
        "import datetime\n",
        "import telebot\n",
        "from telebot import types\n",
        "\n",
        "\n",
        "bot = telebot.TeleBot('5050852838:AAGEeJwfdGCQbGx9jV5UvOydTaapqVkCcSY')"
      ],
      "metadata": {
        "id": "HvRvwqB61v0b"
      },
      "execution_count": null,
      "outputs": []
    },
    {
      "cell_type": "code",
      "source": [
        "import requests\n",
        "import json\n",
        "import time"
      ],
      "metadata": {
        "id": "ZJ1Xbp_07k2l"
      },
      "execution_count": null,
      "outputs": []
    },
    {
      "cell_type": "code",
      "source": [
        "from natasha import (Segmenter,\n",
        "                     NewsEmbedding,\n",
        "                     NewsMorphTagger,\n",
        "                     NewsSyntaxParser,\n",
        "                     NewsNERTagger,\n",
        "                     Doc)\n",
        "segmenter = Segmenter()\n",
        "emb = NewsEmbedding()\n",
        "morph_tagger = NewsMorphTagger(emb)\n",
        "syntax_parser = NewsSyntaxParser(emb)\n",
        "ner_tagger = NewsNERTagger(emb)\n",
        "\n",
        "from natasha import MorphVocab\n",
        "from natasha import DatesExtractor\n",
        "from natasha import NewsNERTagger"
      ],
      "metadata": {
        "id": "xuaBe9wrWD8O"
      },
      "execution_count": null,
      "outputs": []
    },
    {
      "cell_type": "markdown",
      "source": [
        "Определение города для показа погоды:"
      ],
      "metadata": {
        "id": "TA_Z_ifi_lnx"
      }
    },
    {
      "cell_type": "code",
      "source": [
        "def chosen_city(text):\n",
        "  doc = Doc(text)\n",
        "  doc.segment(segmenter)\n",
        "  doc.tag_morph(morph_tagger)\n",
        "  doc.parse_syntax(syntax_parser)\n",
        "  doc.tag_ner(ner_tagger)\n",
        "\n",
        "  natasha_result = [str(doc.spans[i].text.lower()) for i in range(len(doc.spans))]\n",
        "\n",
        "  moscow = ['москв', 'мск']\n",
        "  spb = ['спб', 'ленинград', 'петербург', 'питер']\n",
        "  text = text.lower()\n",
        "  city = None\n",
        "  count = 0\n",
        "  for city1 in spb:\n",
        "    for city2 in moscow:\n",
        "\n",
        "      # check whether a user has typed two cities simultaneously\n",
        "      if (city1 in text or city1 in natasha_result) and (city2 in text or city2 in natasha_result):\n",
        "        count += 1\n",
        "  \n",
        "      if (city1 in text or city1 in natasha_result):\n",
        "        city = 'Санкт-Петербурге'\n",
        "      elif (city2 in text or city2 in natasha_result):\n",
        "        city = 'Москве'\n",
        "\n",
        "\n",
        "  if count > 0:\n",
        "    return None\n",
        "  else:\n",
        "    return city\n",
        "\n"
      ],
      "metadata": {
        "id": "TbkFYbZd_qZ5"
      },
      "execution_count": null,
      "outputs": []
    },
    {
      "cell_type": "markdown",
      "source": [
        "Определяем, на какой день показывать погоду:"
      ],
      "metadata": {
        "id": "LFCuFn8eWjk5"
      }
    },
    {
      "cell_type": "code",
      "source": [
        "def chosen_date(text):\n",
        "  text = text.lower()\n",
        "  doc = Doc(text)\n",
        "\n",
        "  doc.segment(segmenter)\n",
        "  doc.tag_morph(morph_tagger)\n",
        "  doc.parse_syntax(syntax_parser)\n",
        "\n",
        "  morph_vocab = MorphVocab()\n",
        "  dates_extractor = DatesExtractor(morph_vocab)\n",
        "\n",
        "  today = datetime.date.today()\n",
        "  tomorrow = today + datetime.timedelta(days=1)\n",
        "\n",
        "  today = \"day={}, month={}\".format(today.day, today.month)\n",
        "  tomorrow = \"day={}, month={}\".format(tomorrow.day, tomorrow.month)\n",
        "  res = list(dates_extractor(text))\n",
        "  res_day_month = ['day={}, month={}'.format(res[i].fact.day, res[i].fact.month) for i in range(len(res))]\n",
        "\n",
        "  if 'завтра' in text or tomorrow in res_day_month:\n",
        "    return 'завтра'\n",
        "  elif 'сейчас' in text or 'момент' in text:\n",
        "    return 'сейчас'\n",
        "  elif 'сегодня' in text or today in res_day_month:\n",
        "    return 'сегодня'\n",
        "  else:\n",
        "    return None"
      ],
      "metadata": {
        "id": "tvnlLlL4Xvtt"
      },
      "execution_count": null,
      "outputs": []
    },
    {
      "cell_type": "code",
      "source": [
        "def greeting():\n",
        "\tgreeting = ['Привет! Хочешь узнать погоду в Москве или Санкт-Петербурге? Тогда укажи город и время (сейчас, сегодня завтра).', \n",
        "             'Привет, давно не виделись! Хочешь узнать погоду в Москве или Санкт-Петербурге? Тогда укажи город и время (сейчас, сегодня завтра).',\n",
        "             'Доброго времени суток! Хочешь узнать погоду в Москве или Санкт-Петербурге? Тогда укажи город и время (сейчас, сегодня завтра).',\n",
        "             'Здравствуй! Хочешь узнать погоду в Москве или Санкт-Петербурге? Тогда укажи город и время (сейчас, сегодня завтра).']\n",
        "\n",
        "\treturn random.choice(greeting)"
      ],
      "metadata": {
        "id": "ue9LHW72vFlc"
      },
      "execution_count": null,
      "outputs": []
    },
    {
      "cell_type": "code",
      "source": [
        "def bye():\n",
        "  bye = ['Хорошего дня!', 'Увидимся!', 'До скорого!', 'Пока-пока :)']\n",
        "  return random.choice(bye)"
      ],
      "metadata": {
        "id": "WBn9sdlDvUzU"
      },
      "execution_count": null,
      "outputs": []
    },
    {
      "cell_type": "code",
      "source": [
        "def show_error():\n",
        "\tshow_error =  ['Я не понимаю. Не мог бы ты немножко уточнить город и время?', \n",
        "                'Мне кажется, что я не совсем тебя понимаю :( Не мог бы ты немного уточнить запрос, а именно: город и время?',\n",
        "                'Я не могу уловить твои намерения. Не мог бы ты дать мне несколько пояснений о городе и времени, пожалуйста?']\n",
        "\n",
        "\treturn random.choice(show_error) + \" Ты хочешь узнать прогноз погоды? Я рад рассказать о погоде в Москве или Санкт-Петербурге! Выбери город и время (сейчас, сегодня, завтра).\""
      ],
      "metadata": {
        "id": "_xzjCYlA85D-"
      },
      "execution_count": null,
      "outputs": []
    },
    {
      "cell_type": "markdown",
      "source": [
        "Функция работы с API погоды:"
      ],
      "metadata": {
        "id": "s-LDhummb-nV"
      }
    },
    {
      "cell_type": "code",
      "source": [
        "WEATHER_TOKEN = 'a3caef32ad37d5e88e6327d45dba6467'\n",
        "\n",
        "WEATHER_URL = 'https://api.openweathermap.org/data/2.5/onecall?lat={lat}&lon={lon}&exclude=hourly&appid={token}&units={units}'\n",
        "\n",
        "def get_weather(location, time):\n",
        "  if location == 'Санкт-Петербурге':\n",
        "    url = WEATHER_URL.format(lat=59.93, lon=30.36,\n",
        "                                   token=WEATHER_TOKEN, units='metric')\n",
        "  elif location == 'Москве':\n",
        "    url = WEATHER_URL.format(lat=55.75, lon=37.61,\n",
        "                                   token=WEATHER_TOKEN, units='metric')\n",
        "  else:\n",
        "    return None\n",
        "  response = requests.get(url)\n",
        "  data = json.loads(response.content)\n",
        "  return data"
      ],
      "metadata": {
        "id": "wenPeC7idTmx"
      },
      "execution_count": null,
      "outputs": []
    },
    {
      "cell_type": "markdown",
      "source": [
        "Главная функция работы с тектом:"
      ],
      "metadata": {
        "id": "lL1jIaFdy3fW"
      }
    },
    {
      "cell_type": "code",
      "source": [
        "def main(text):\n",
        "  city = chosen_city(text)\n",
        "  text = text.lower()\n",
        "\n",
        "  for word in ['прив', 'утро', 'день', 'вечер', 'здравствуй']:\n",
        "    if word in text:\n",
        "      return greeting()\n",
        "      \n",
        "  for word in ['пока', 'встречи', 'свидани', 'спокойной']:\n",
        "    if word in text:\n",
        "      return bye()\n",
        "    \n",
        "  data = get_weather(city, chosen_date(text))\n",
        "  if city is not None and data is not None:\n",
        "    if chosen_date(text) == 'сейчас':\n",
        "      temp = data['current']['temp']\n",
        "      msg = f'Температура в {city} сейчас {temp}°С.'\n",
        "      return msg\n",
        "    if chosen_date(text) == 'сегодня':\n",
        "      temp_day = data['daily'][0]['temp']['day']\n",
        "      temp_night = data['daily'][0]['temp']['night']\n",
        "      msg = f'Сегодня температура в {city} в течение дня {temp_day}°С, в течение ночи {temp_night}°С.'\n",
        "      return msg\n",
        "    elif chosen_date(text) == 'завтра':\n",
        "      temp_day = data['daily'][1]['temp']['day']\n",
        "      temp_night = data['daily'][1]['temp']['night']\n",
        "      msg = f'Завтра температура в {city} в течение дня будет {temp_day}°С, в течение ночи - {temp_night}°С.'\n",
        "      return msg\n",
        "    else:\n",
        "      return 'Не мог бы ты уточнить день, для которого нужно определить погоду? А также, укажи, пожалуйста, еще раз город.'\n",
        "  elif (chosen_date(text) == 'сегодня' or chosen_date(text) == 'завтра' or chosen_date(text) == 'сейчас'):\n",
        "    return 'Не мог бы ты уточнить город, для которого нужно определить погоду? А также, укажи, пожалуйста, еще раз день.'\n",
        "  elif city is None and chosen_date(text) != 'сегодня' and chosen_date(text) != 'завтра' and chosen_date(text) != 'сейчас':\n",
        "    return 'Не мог бы ты уточнить город и день, чтобы я смог точнее определить погоду?'\n",
        "\n",
        "      \n",
        "  return show_error()"
      ],
      "metadata": {
        "id": "MOWYllzhkPjj"
      },
      "execution_count": null,
      "outputs": []
    },
    {
      "cell_type": "code",
      "source": [
        "@bot.message_handler(commands=['start'])\n",
        "def send_welcome(message):\n",
        "    bot.reply_to(message, 'Привет! Я могу подсказать тебе погоду в Москве и Санкт-Петербурге на данный момент, сегодня и завтра.')"
      ],
      "metadata": {
        "id": "b-psgM2PfySk"
      },
      "execution_count": null,
      "outputs": []
    },
    {
      "cell_type": "code",
      "source": [
        "@bot.message_handler(commands=['help'])\n",
        "def welcome_help(message):\n",
        "    bot.send_message(message.chat.id, 'Выбери город (Санкт-Петербург, Москва) и время (сейчас, сегодня, завтра), чтобы узнать погоду. ')"
      ],
      "metadata": {
        "id": "Br4M7CUVfyXv"
      },
      "execution_count": null,
      "outputs": []
    },
    {
      "cell_type": "code",
      "source": [
        "@bot.message_handler(content_types=['text'])\n",
        "def get_messages(message):\n",
        "\tbot.send_message(message.from_user.id, main(message.text))"
      ],
      "metadata": {
        "id": "WY9aeRGxe7T5"
      },
      "execution_count": null,
      "outputs": []
    },
    {
      "cell_type": "code",
      "source": [
        "bot.polling(none_stop=True, interval=0)"
      ],
      "metadata": {
        "id": "4mRT14XLfyfx"
      },
      "execution_count": null,
      "outputs": []
    },
    {
      "cell_type": "code",
      "source": [
        ""
      ],
      "metadata": {
        "id": "MT8akjPlttgq"
      },
      "execution_count": null,
      "outputs": []
    }
  ]
}